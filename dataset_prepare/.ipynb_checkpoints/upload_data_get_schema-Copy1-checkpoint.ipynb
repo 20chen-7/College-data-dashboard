{
 "cells": [
  {
   "cell_type": "code",
   "execution_count": 1,
   "id": "c7f3464c",
   "metadata": {},
   "outputs": [],
   "source": [
    "import pandas as pd"
   ]
  },
  {
   "cell_type": "code",
   "execution_count": 2,
   "id": "16f3a090",
   "metadata": {},
   "outputs": [
    {
     "data": {
      "text/plain": [
       "'2.2.2'"
      ]
     },
     "execution_count": 2,
     "metadata": {},
     "output_type": "execute_result"
    }
   ],
   "source": [
    "pd.__version__"
   ]
  },
  {
   "cell_type": "code",
   "execution_count": 3,
   "id": "f7ce70c5",
   "metadata": {},
   "outputs": [],
   "source": [
    "import io\n",
    "import pandas as pd\n",
    "import requests\n",
    "import zipfile\n",
    "import os"
   ]
  },
  {
   "cell_type": "code",
   "execution_count": 4,
   "id": "c0103214",
   "metadata": {},
   "outputs": [],
   "source": [
    "url = \"https://ed-public-download.app.cloud.gov/downloads/CollegeScorecard_Raw_Data_09262023.zip\""
   ]
  },
  {
   "cell_type": "code",
   "execution_count": 5,
   "id": "d04bdcee",
   "metadata": {},
   "outputs": [],
   "source": [
    "response = requests.get(url)\n",
    "response.raise_for_status() "
   ]
  },
  {
   "cell_type": "code",
   "execution_count": 6,
   "id": "7a06ceca",
   "metadata": {},
   "outputs": [],
   "source": [
    "zip_file_bytes = io.BytesIO(response.content)"
   ]
  },
  {
   "cell_type": "code",
   "execution_count": 18,
   "id": "53a5d281",
   "metadata": {},
   "outputs": [],
   "source": [
    "#Save dataset into mage \n",
    "dataset_directory = '../mage/de-bootcamp-final-project/dataset'\n",
    "os.makedirs(dataset_directory, exist_ok=True)\n",
    "\n",
    "# List of desired CSV files \n",
    "desired_files = [\n",
    "    'data/FieldOfStudyData1819_1920_PP.csv',\n",
    "    'data/FieldOfStudyData1415_1516_PP.csv',\n",
    "    'data/FieldOfStudyData1516_1617_PP.csv',\n",
    "    'data/FieldOfStudyData1617_1718_PP.csv',\n",
    "    'data/FieldOfStudyData1718_1819_PP.csv',\n",
    "]"
   ]
  },
  {
   "cell_type": "code",
   "execution_count": 16,
   "id": "92615a2c",
   "metadata": {},
   "outputs": [],
   "source": [
    "college_dtypes = {\n",
    "                        'UNITID': pd.Int64Dtype(),\n",
    "                        'OPEID6': pd.Int64Dtype(),\n",
    "                        \"INSTNM\": str,\n",
    "                        \"CONTROL\": str,\n",
    "                        \"MAIN\": pd.Int64Dtype(),\n",
    "                        \"CIPCODE\": pd.Int64Dtype(),\n",
    "                        \"CIPDESC\": str,\n",
    "                        \"CREDLEV:\": pd.Int64Dtype(),\n",
    "                        \"CREDDESC\": str,\n",
    "                        \"IPEDSCOUNT1\": float,\n",
    "                        \"IPEDSCOUNT2\": float,\n",
    "                        \"DEBT_ALL_STGP_ANY_N\": str,\n",
    "                        \"DEBT_ALL_STGP_ANY_MEAN\": str,\n",
    "                        \"DEBT_ALL_STGP_ANY_MDN\": str,\n",
    "                        \"DEBT_ALL_STGP_EVAL_N\": str,\n",
    "                        \"DEBT_ALL_STGP_EVAL_MEAN\": str,\n",
    "                        \"DEBT_ALL_STGP_EVAL_MDN\": str,\n",
    "                        \"DEBT_ALL_PP_ANY_N\": str,\n",
    "                        \"DEBT_ALL_PP_ANY_MEAN\": str,\n",
    "                        \"DEBT_ALL_PP_ANY_MDN\": str,\n",
    "                        \"DEBT_ALL_PP_EVAL_N\": str,\n",
    "                        \"DEBT_ALL_PP_EVAL_MEAN\": str,\n",
    "                        \"DEBT_ALL_PP_EVAL_MDN\": str,\n",
    "                        \"DEBT_MALE_STGP_ANY_N\": str,\n",
    "                        \"DEBT_MALE_STGP_ANY_MEAN\": str,\n",
    "                        \"DEBT_MALE_STGP_ANY_MDN\": str,\n",
    "                        \"DEBT_MALE_STGP_EVAL_N\": str,\n",
    "                        \"DEBT_MALE_STGP_EVAL_MEAN\": str,\n",
    "                        \"DEBT_MALE_STGP_EVAL_MDN\": str,\n",
    "                        \"DEBT_MALE_PP_ANY_N\": str,\n",
    "                        \"DEBT_MALE_PP_ANY_MEAN\": str,\n",
    "                        \"DEBT_MALE_PP_ANY_MDN\": str,\n",
    "                        \"DEBT_MALE_PP_EVAL_N\": str,\n",
    "                        \"DEBT_MALE_PP_EVAL_MEAN\": str,\n",
    "                        \"DEBT_MALE_PP_EVAL_MDN\": str,\n",
    "                        \"DEBT_NOTMALE_STGP_ANY_N\": str,\n",
    "                        \"DEBT_NOTMALE_STGP_ANY_MEAN\": str,\n",
    "                        \"DEBT_NOTMALE_STGP_ANY_MDN\": str,\n",
    "                        \"DEBT_NOTMALE_STGP_EVAL_N\": str,\n",
    "                        \"DEBT_NOTMALE_STGP_EVAL_MEAN\": str,\n",
    "                        \"DEBT_NOTMALE_STGP_EVAL_MDN\": str,\n",
    "                        \"DEBT_NOTMALE_PP_ANY_N\": str,\n",
    "                        \"DEBT_PELL_STGP_ANY_N\": str,\n",
    "                        \"DEBT_PELL_STGP_ANY_MEAN\": str,\n",
    "                        \"DEBT_PELL_STGP_ANY_MDN\": str,\n",
    "                        \"DEBT_PELL_STGP_EVAL_N\": str,\n",
    "                        \"DEBT_PELL_STGP_EVAL_MEAN\": str,\n",
    "                        \"DEBT_PELL_STGP_EVAL_MDN\": str,\n",
    "                        \"DEBT_PELL_PP_ANY_N\": str,\n",
    "                        \"DEBT_PELL_PP_ANY_MEAN\": str,\n",
    "                        \"DEBT_PELL_PP_ANY_MDN\": str,\n",
    "                        \"DEBT_PELL_PP_EVAL_N\": str,\n",
    "                        \"DEBT_PELL_PP_EVAL_MEAN\": str,\n",
    "                        \"DEBT_PELL_PP_EVAL_MDN\": str,\n",
    "                        \"DEBT_NOPELL_STGP_ANY_N\": str,\n",
    "                        \"DEBT_NOPELL_STGP_ANY_MEAN\": str,\n",
    "                        \"DEBT_NOPELL_STGP_ANY_MDN\": str,\n",
    "                        \"DEBT_NOPELL_STGP_EVAL_N\": str,\n",
    "                        \"DEBT_NOPELL_STGP_EVAL_MEAN\": str,\n",
    "                        \"DEBT_NOPELL_STGP_EVAL_MDN\": str,\n",
    "                        \"DEBT_NOPELL_PP_ANY_N\": str,\n",
    "                        \"DEBT_NOPELL_PP_ANY_MEAN\": str,\n",
    "                        \"DEBT_NOPELL_PP_ANY_MDN\": str,\n",
    "                        \"DEBT_NOPELL_PP_EVAL_N\": str,\n",
    "                        \"DEBT_NOPELL_PP_EVAL_MEAN\": str,\n",
    "                        \"DEBT_NOPELL_PP_EVAL_MDN\": str,\n",
    "                        \"DEBT_ALL_PP_ANY_MDN10YRPAY\": str,\n",
    "                        \"DEBT_ALL_PP_EVAL_MDN10YRPAY\": str,\n",
    "                        \"DEBT_ALL_STGP_ANY_MDN10YRPAY\": str,\n",
    "                        \"DEBT_ALL_STGP_EVAL_MDN10YRPAY\": str,\n",
    "                        \"EARN_COUNT_NWNE_HI_1YR\": str,\n",
    "                        \"EARN_CNTOVER150_HI_1YR\": str,\n",
    "                        \"EARN_COUNT_WNE_HI_1YR\": str,\n",
    "                        \"EARN_MDN_HI_1YR\": str,\n",
    "                        \"EARN_COUNT_NWNE_HI_2YR\":str,\n",
    "                        \"EARN_CNTOVER150_HI_2YR\": str,\n",
    "                        \"EARN_COUNT_WNE_HI_2YR\": str,\n",
    "                        \"EARN_MDN_HI_2YR\": str,\n",
    "                        \"BBRR2_FED_COMP_N\": str,\n",
    "                        \"BBRR2_FED_COMP_DFLT\": str,\n",
    "                        \"BBRR2_FED_COMP_DLNQ\": str,\n",
    "                        \"BBRR2_FED_COMP_FBR\": str,\n",
    "                        \"BBRR2_FED_COMP_DFR\": str,\n",
    "                        \"BBRR2_FED_COMP_NOPROG\": str,\n",
    "                        \"BBRR2_FED_COMP_MAKEPROG\": str,\n",
    "                        \"BBRR2_FED_COMP_PAIDINFULL\": str,\n",
    "                        \"BBRR2_FED_COMP_DISCHARGE\": str,\n",
    "                        \"BBRR3_FED_COMP_N\": str,\n",
    "                        \"BBRR3_FED_COMP_DFLT\": str,\n",
    "                        \"BBRR3_FED_COMP_DLNQ\": str,\n",
    "                        \"BBRR3_FED_COMP_FBR\": str,\n",
    "                        \"BBRR3_FED_COMP_DFR\": str,\n",
    "                        \"BBRR3_FED_COMP_NOPROG\": str,\n",
    "                        \"BBRR3_FED_COMP_MAKEPROG\": str,\n",
    "                        \"BBRR3_FED_COMP_PAIDINFULL\": str,\n",
    "                        \"BBRR3_FED_COMP_DISCHARGE\": str,\n",
    "                        \"EARN_COUNT_PELL_WNE_1YR\": str,\n",
    "                        \"EARN_PELL_WNE_MDN_1YR\": str,\n",
    "                        \"EARN_COUNT_NOPELL_WNE_1YR\": str,\n",
    "                        \"EARN_NOPELL_WNE_MDN_1YR\": str,\n",
    "                        \"EARN_COUNT_MALE_WNE_1YR\": str,\n",
    "                        \"EARN_MALE_WNE_MDN_1YR\": str,\n",
    "                        \"EARN_COUNT_NOMALE_WNE_1YR\": str,\n",
    "                        \"EARN_NOMALE_WNE_MDN_1YR\": str,\n",
    "                        \"EARN_COUNT_NE_3YR\": str,\n",
    "                        \"EARN_NE_MDN_3YR\": str,\n",
    "                        \"EARN_COUNT_WNE_3YR\": str,\n",
    "                        \"EARN_CNTOVER150_3YR\": str,\n",
    "                        \"EARN_COUNT_PELL_NE_3YR\": str,\n",
    "                        \"EARN_PELL_NE_MDN_3YR\": str,\n",
    "                        \"EARN_COUNT_NOPELL_NE_3YR\": str,\n",
    "                        \"EARN_NOPELL_NE_MDN_3YR\": str,\n",
    "                        \"EARN_COUNT_MALE_NE_3YR\": str,\n",
    "                        \"EARN_MALE_NE_MDN_3YR\": str,\n",
    "                        \"EARN_COUNT_NOMALE_NE_3YR\": str,\n",
    "                        \"EARN_NOMALE_NE_MDN_3YR\": str,\n",
    "                        \"DISTANCE\": pd.Int64Dtype(),\n",
    "                    }"
   ]
  },
  {
   "cell_type": "code",
   "execution_count": 19,
   "id": "eaa0e7fb",
   "metadata": {},
   "outputs": [
    {
     "name": "stdout",
     "output_type": "stream",
     "text": [
      "Converted FieldOfStudyData1415_1516_PP.csv to ../mage/de-bootcamp-final-project/dataset/FieldOfStudyData1415_1516_PP.parquet\n",
      "Converted FieldOfStudyData1516_1617_PP.csv to ../mage/de-bootcamp-final-project/dataset/FieldOfStudyData1516_1617_PP.parquet\n",
      "Converted FieldOfStudyData1617_1718_PP.csv to ../mage/de-bootcamp-final-project/dataset/FieldOfStudyData1617_1718_PP.parquet\n",
      "Converted FieldOfStudyData1718_1819_PP.csv to ../mage/de-bootcamp-final-project/dataset/FieldOfStudyData1718_1819_PP.parquet\n",
      "Converted FieldOfStudyData1819_1920_PP.csv to ../mage/de-bootcamp-final-project/dataset/FieldOfStudyData1819_1920_PP.parquet\n"
     ]
    }
   ],
   "source": [
    "with zipfile.ZipFile(zip_file_bytes) as zip_file:\n",
    "    for file_name in zip_file.namelist():\n",
    "        if file_name in desired_files:\n",
    "            with zip_file.open(file_name) as file:\n",
    "                df = pd.read_csv(file, dtype=college_dtypes)\n",
    "                # Remove the 'data/' prefix from the filename\n",
    "                simplified_name = file_name.split('/', 1)[1] if '/' in file_name else file_name\n",
    "                full_path = os.path.join(dataset_directory, simplified_name.replace('.csv', '.parquet'))\n",
    "                # Save to Parquet file\n",
    "                df.to_parquet(full_path)\n",
    "                print(f\"Converted {simplified_name} to {full_path}\")\n"
   ]
  },
  {
   "cell_type": "markdown",
   "id": "3ae18bdc",
   "metadata": {},
   "source": [
    "Load merge data"
   ]
  },
  {
   "cell_type": "code",
   "execution_count": 7,
   "id": "3c9d5920",
   "metadata": {},
   "outputs": [],
   "source": [
    "desired_file = 'data/MERGED2019_20_PP.csv'"
   ]
  },
  {
   "cell_type": "code",
   "execution_count": 27,
   "id": "9274f36e",
   "metadata": {},
   "outputs": [],
   "source": [
    "merged_dtypes = {\n",
    "}"
   ]
  },
  {
   "cell_type": "code",
   "execution_count": 52,
   "id": "5773db30",
   "metadata": {},
   "outputs": [
    {
     "name": "stdout",
     "output_type": "stream",
     "text": [
      "Converted MERGED2019_20_PP.csv to ../mage/de-bootcamp-final-project/dataset/MERGED2019_20_PP.parquet\n"
     ]
    }
   ],
   "source": [
    "with zipfile.ZipFile(zip_file_bytes) as zip_file:\n",
    "    with zip_file.open(desired_file) as file:\n",
    "        df_merged = pd.read_csv(file, dtype=merged_dtypes)\n",
    "                 # Remove the 'data/' prefix from the filename\n",
    "        simplified_name = desired_file.split('/', 1)[1] if '/' in desired_file else desired_file\n",
    "        full_path = os.path.join(dataset_directory, simplified_name.replace('.csv', '.parquet'))\n",
    "                 # Save to Parquet file\n",
    "        df_merged.to_parquet(full_path)\n",
    "        print(f\"Converted {simplified_name} to {full_path}\")\n"
   ]
  },
  {
   "cell_type": "code",
   "execution_count": null,
   "id": "ce65f42c",
   "metadata": {},
   "outputs": [],
   "source": []
  }
 ],
 "metadata": {
  "kernelspec": {
   "display_name": "Python 3 (ipykernel)",
   "language": "python",
   "name": "python3"
  },
  "language_info": {
   "codemirror_mode": {
    "name": "ipython",
    "version": 3
   },
   "file_extension": ".py",
   "mimetype": "text/x-python",
   "name": "python",
   "nbconvert_exporter": "python",
   "pygments_lexer": "ipython3",
   "version": "3.9.13"
  }
 },
 "nbformat": 4,
 "nbformat_minor": 5
}
